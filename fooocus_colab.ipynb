{
  "cells": [
    {
      "cell_type": "markdown",
      "source": [
        "# **AI Photo Generation with Fooocus**\n",
        "\n",
        "This notebook provides a streamlined setup for generating images using the Fooocus AI model. Here's a breakdown of the steps involved:\n",
        "\n",
        "**1. Installation:**\n",
        "   - We begin by installing the `pygit2` library, which is essential for interacting with Git repositories.\n",
        "\n",
        "**2. Cloning the Repository:**\n",
        "   - Next, we navigate to the `/content` directory and clone the Fooocus repository from GitHub using the `git clone` command.\n",
        "\n",
        "**3. Launching Fooocus:**\n",
        "   - Finally, we enter the Fooocus directory and execute the `entry_with_update.py` script with the `--share` and `--always-high-vram` flags. This launches the Fooocus interface, allowing you to generate images.\n",
        "\n",
        "**Key Features:**\n",
        "   - **AI-Powered Image Generation:**  Fooocus leverages advanced AI algorithms to create realistic and creative images.\n",
        "   - **User-Friendly Interface:** The Fooocus interface provides an intuitive way to interact with the model and customize your image generation process.\n",
        "   - **High-Performance:** The `--always-high-vram` flag ensures optimal performance by allocating sufficient video memory for the AI model.\n",
        "\n",
        "**Getting Started:**\n",
        "   - Simply run the code cells in this notebook sequentially. Once the Fooocus interface is launched, you can start generating your own AI-powered images."
      ],
      "metadata": {
        "id": "y2ar7U1Y7wB_"
      }
    },
    {
      "cell_type": "code",
      "execution_count": null,
      "metadata": {
        "id": "VjYy0F2gZIPR"
      },
      "outputs": [],
      "source": [
        "!pip install pygit2==1.15.1\n",
        "%cd /content\n",
        "!git clone https://github.com/lllyasviel/Fooocus.git\n",
        "%cd /content/Fooocus\n",
        "!python entry_with_update.py --share --always-high-vram\n"
      ]
    }
  ],
  "metadata": {
    "accelerator": "GPU",
    "colab": {
      "gpuType": "T4",
      "provenance": []
    },
    "kernelspec": {
      "display_name": "Python 3",
      "name": "python3"
    },
    "language_info": {
      "name": "python"
    }
  },
  "nbformat": 4,
  "nbformat_minor": 0
}